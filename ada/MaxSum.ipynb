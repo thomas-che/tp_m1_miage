{
 "cells": [
  {
   "cell_type": "markdown",
   "metadata": {},
   "source": [
    "# Somme maximum\n",
    "\n",
    "Soit $L$ une liste de $n$ entiers relatifs (donc positifs ou négatifs)\n",
    "\n",
    "On cherche les indices $i$ et $j$ tels que la somme $\\sum_{k=i}^{j} L[k]$ soit la plus grande possible, c'est-à-dire les indices $i$ et $j$ pour lesquels la somme des élements des indices $i$ à $j$ soit la plus grande possible. On appelera **somme maximum** une telle somme $L[i]+L[i+1]+ \\dots + L[j]$\n",
    "\n",
    "> Pour la liste $L = [2, -7, -5, 10, 8, 5, 10, -1, 10, -2, -7, 7]$, quels sont ces indices $i$ et $j$, si on suppose la liste indicée à partir de $0$ ?"
   ]
  },
  {
   "cell_type": "code",
   "execution_count": null,
   "metadata": {
    "collapsed": true
   },
   "outputs": [],
   "source": [
    "L = [2, -7, -5, 10, 8, 5, 10, -1, 10, -2, -7, 7]\n",
    "\n",
    "# i=??? et j=???"
   ]
  },
  {
   "cell_type": "markdown",
   "metadata": {},
   "source": [
    "**Remarque.** Si la liste ne contient que des nombres négatifs, alors la somme maximum est définie à $0$, et les indices $i$ et $j$ sont égaux à $-1$.\n",
    "\n",
    "Si cela simplifie l'écriture des algorithmes qui suivent, vous pourrez supposer que la liste $L$ contient au moins un entier positif ou nul (et donc pas que des négatifs). La détection  d'une telle liste est facile :"
   ]
  },
  {
   "cell_type": "code",
   "execution_count": 5,
   "metadata": {},
   "outputs": [
    {
     "name": "stdout",
     "output_type": "stream",
     "text": [
      "True\n",
      "False\n",
      "Longueur de la liste L: 12\n"
     ]
    }
   ],
   "source": [
    "def listeNegative(L):\n",
    "    return all(x<0 for x in L)\n",
    "\n",
    "L = [-2, -7, -5, -10, -8, -5, -10, -1, -10, -2, -7, -7]\n",
    "\n",
    "\n",
    "\n",
    "\n",
    "\n",
    "print(listeNegative(L))\n",
    "\n",
    "L = [2, -7, -5, 10, 8, 5, 10, -1, 10, -2, -7, 7]\n",
    "print(listeNegative(L))\n",
    "\n",
    "print(\"Longueur de la liste L:\", len(L))"
   ]
  },
  {
   "cell_type": "markdown",
   "metadata": {},
   "source": [
    "## Approche naïve en $O(n^3)$\n",
    "\n",
    "> Écrire une fonction `maxSumTresNaif`, utilisant une approche par *force brute* essayant toutes les possibilités pour $i$ et pour $j$, puis calculant la somme $\\sum_{k=i}^{j} L[k]$ afin de déterminer la somme maximum (et éventuellement les indices $i$ et $j$ correspondant). Votre fonction utilisera $3$ boucles imbriquées.\n",
    "\n",
    "> Vérifiez que pour la liste $L$ précédente, on obtient bien le résultat attendu.\n"
   ]
  },
  {
   "cell_type": "code",
   "execution_count": 20,
   "metadata": {},
   "outputs": [
    {
     "name": "stdout",
     "output_type": "stream",
     "text": [
      "[(2, 0, 0), (-5, 0, 1), (-10, 0, 2), (0, 0, 3), (8, 0, 4), (13, 0, 5), (23, 0, 6), (22, 0, 7), (32, 0, 8), (30, 0, 9), (23, 0, 10), (30, 0, 11), (-7, 1, 1), (-12, 1, 2), (-2, 1, 3), (6, 1, 4), (11, 1, 5), (21, 1, 6), (20, 1, 7), (30, 1, 8), (28, 1, 9), (21, 1, 10), (28, 1, 11), (-5, 2, 2), (5, 2, 3), (13, 2, 4), (18, 2, 5), (28, 2, 6), (27, 2, 7), (37, 2, 8), (35, 2, 9), (28, 2, 10), (35, 2, 11), (10, 3, 3), (18, 3, 4), (23, 3, 5), (33, 3, 6), (32, 3, 7), (42, 3, 8), (40, 3, 9), (33, 3, 10), (40, 3, 11), (8, 4, 4), (13, 4, 5), (23, 4, 6), (22, 4, 7), (32, 4, 8), (30, 4, 9), (23, 4, 10), (30, 4, 11), (5, 5, 5), (15, 5, 6), (14, 5, 7), (24, 5, 8), (22, 5, 9), (15, 5, 10), (22, 5, 11), (10, 6, 6), (9, 6, 7), (19, 6, 8), (17, 6, 9), (10, 6, 10), (17, 6, 11), (-1, 7, 7), (9, 7, 8), (7, 7, 9), (0, 7, 10), (7, 7, 11), (10, 8, 8), (8, 8, 9), (1, 8, 10), (8, 8, 11), (-2, 9, 9), (-9, 9, 10), (-2, 9, 11), (-7, 10, 10), (0, 10, 11), (7, 11, 11)]\n",
      "\n",
      " (42, 3, 8)\n"
     ]
    }
   ],
   "source": [
    "  def maxSumTresNaif(L):\n",
    "    \"\"\"O(n^2)\"\"\"\n",
    "    tab = []\n",
    "    for i in range(0, len(L)):\n",
    "        sj=0\n",
    "        for j in range(i, len(L)):\n",
    "            sj+=L[j]\n",
    "            tab.append((sj,i,j))\n",
    "    \n",
    "    indexMax = 0\n",
    "    for i in range(0, len(tab)):\n",
    "        if tab[indexMax][0] < tab[i][0]:\n",
    "            indexMax = i\n",
    "            \n",
    "    print(tab)        \n",
    "    print(\"\\n\",tab[indexMax])\n",
    "\n",
    "    \n",
    "# test    \n",
    "maxSumTresNaif(L)"
   ]
  },
  {
   "cell_type": "markdown",
   "metadata": {},
   "source": [
    "## Approche un peu moins naïve en $O(n^2)$\n",
    "\n",
    "> Écrire une fonction `maxSumNaif`, qui n'utilise que $2$ boucles imbriquées pour tester les possibilités pour $i$ et pour $j$. La somme devra être calculée de façon un peu astucieuse pour éviter l'utilisation d'une troisième boucle.\n",
    "\n",
    "> Vérifiez que pour la liste $L$ précédente, on obtient bien le résultat attendu."
   ]
  },
  {
   "cell_type": "code",
   "execution_count": null,
   "metadata": {},
   "outputs": [],
   "source": [
    "def maxSumNaif(L):\n",
    "    pass"
   ]
  },
  {
   "cell_type": "markdown",
   "metadata": {},
   "source": [
    "## Approche Diviser-pour-Régner en $O(n \\log n)$"
   ]
  },
  {
   "cell_type": "markdown",
   "metadata": {},
   "source": [
    "Nous allons développer un algorithme de type Diviser-pour-Règner pour résoudre ce problème.\n",
    "Pour cela, on découpe la liste en deux moitiés. On observe que toute somme maximum appartient à l'un de ces trois cas :\n",
    "- la somme maximum se trouve dans la première moitié;\n",
    "- la somme maximum se trouve dans la seconde moitié;\n",
    "- la somme maximum se trouve *à cheval* sur la première et la seconde moitié.\n",
    "\n",
    "> Implémentez une fonction `maxSum` basée sur cette approche. Vous pouvez éventuellement programmer votre fonction pour qu'elle accepte 2 paramètres supplémentaires ($p$ et $q$), de sorte à rechercher le maximum entre ces deux indices.\n",
    "\n",
    "> Donnez la récurrence qui décrit le temps d'exécution de l'approche."
   ]
  },
  {
   "cell_type": "code",
   "execution_count": null,
   "metadata": {
    "collapsed": true
   },
   "outputs": [],
   "source": [
    "def maxSum(L,p,q):\n",
    "    pass"
   ]
  },
  {
   "cell_type": "markdown",
   "metadata": {},
   "source": [
    "## Approche en $O(n)$"
   ]
  },
  {
   "cell_type": "markdown",
   "metadata": {},
   "source": [
    "Il est possible de réduire la complexité de l'approche précédente, de $O(n \\log n)$ à $O(n)$. Pour cela, il faut être plus efficace dans le calcul de la somme maximum à cheval sur les deux moitiés. En particulier, nous voudrions calculer cette somme en temps $O(1)$, c'est-à-dire en temps constant !\n",
    "\n",
    "En réfléchissant un peu, on s'apperçoit qu'il faudrait être capable, lors des appels récursifs, de récupérer en plus les informations suivantes:\n",
    "- la somme maximum commençant par le premier élément du (sous) tableau;\n",
    "- la somme maximum terminant par le dernier élément du (sous) tableau;\n",
    "- la somme de tous les éléments du (sous) tableau.\n",
    "\n",
    "Supposons que $L$ soit une liste découpée en deux moitiés notées $L_G$ et $L_D$.\n",
    "Notons :\n",
    "- $maxSumStart_G$ la somme maximum commençant par le premier élément de $L_G$;\n",
    "- $maxSumEnd_G$ la somme maximum terminant par le dernier élément de $L_G$;\n",
    "- $sum_G$ la somme de tous les éléments de $L_G$.\n",
    "- $maxSumStart_D$ la somme maximum commençant par le premier élément de $L_D$;\n",
    "- $maxSumEnd_D$ la somme maximum terminant par le dernier élément de $L_D$;\n",
    "- $sum_D$ la somme de tous les éléments de $L_D$.\n",
    "\n",
    "\n",
    "> Ecrire une fonction `agregate` qui attend en paramètres $maxSumStart_G$, $maxSumEnd_G$, $sum_G$, $maxSumStart_D$, $maxSumEnd_D$, $sum_D$ et qui retourne un triplet ($maxSumStart$, $maxSumEnd$, $sum$) où\n",
    "- $maxSumStart$ est la somme maximum commençant par le premier élément de $L$;\n",
    "- $maxSumEnd$ est la somme maximum terminant par le dernier élément de $L$;\n",
    "- $sum$ la somme de tous les éléments de $L$."
   ]
  },
  {
   "cell_type": "code",
   "execution_count": null,
   "metadata": {
    "collapsed": true
   },
   "outputs": [],
   "source": [
    "def agregate(maxSumStartG, maxSumEndG, sumG, maxSumStartD, maxSumEndD, sumD):\n",
    "    pass"
   ]
  },
  {
   "cell_type": "markdown",
   "metadata": {},
   "source": [
    "> Reprendre et modifier le code de la fonction `maxSum` pour y utiliser `agregate` afin de rendre `maxSum` plus rapide. Attention, cela devient un peu lourd en notation si on souhaite toujours récupérer les indices $i$ et $j$ donnant la somme optimale. Dans un premier temps, vous pouvez ignorer l'obtention de ces deux indices pour ne se concentrer que sur la somme maximum. Nous appelerons `maxSumLinear` cette nouvelle fonction."
   ]
  },
  {
   "cell_type": "code",
   "execution_count": null,
   "metadata": {
    "collapsed": true
   },
   "outputs": [],
   "source": [
    "def maxSumLinear(L,p,q):\n",
    "    pass"
   ]
  },
  {
   "cell_type": "markdown",
   "metadata": {},
   "source": [
    "> Donnez la récurrence qui décrit le temps d'exécution de votre foncion. Utilisez le théorème maître pour la résoudre."
   ]
  },
  {
   "cell_type": "code",
   "execution_count": null,
   "metadata": {
    "collapsed": true
   },
   "outputs": [],
   "source": [
    "# ..."
   ]
  },
  {
   "cell_type": "markdown",
   "metadata": {},
   "source": [
    "# Expérimentations"
   ]
  },
  {
   "cell_type": "markdown",
   "metadata": {},
   "source": [
    "> Grâce à la fonction timeit, evaluer expérimentalement le temps d'exécution des deux versions de `maxSum` et de `maxSumLinear`. On pourra tester sur une liste conséquente de nombres aléatoires."
   ]
  },
  {
   "cell_type": "code",
   "execution_count": null,
   "metadata": {},
   "outputs": [],
   "source": [
    "import random\n",
    "\n",
    "L = [random.randint(-50,50) for _ in range(100)]\n",
    "%timeit -r 3 -n 10 maxSumNaif(L)"
   ]
  },
  {
   "cell_type": "code",
   "execution_count": null,
   "metadata": {
    "collapsed": true
   },
   "outputs": [],
   "source": [
    "# évaluez ici le temps d'exécution de maxSum et maxSumLinear\n"
   ]
  },
  {
   "cell_type": "markdown",
   "metadata": {},
   "source": [
    "**REMARQUE :** l'algorithme maxSumNaif qui demande un temps O(n^2) croit encore plus vite !"
   ]
  },
  {
   "cell_type": "markdown",
   "metadata": {
    "collapsed": true
   },
   "source": [
    "# Résolution en O(n) par programmation dynamique\n",
    "\n",
    "Le problème que nous étudions peut aussi être résolu par une approche de *programmation dynamique*. Pour le moment, nous n'avons pas besoin d'expliquer la technique, mais les plus curieux pourront consulter la page wikipédia [https://fr.wikipedia.org/wiki/Programmation_dynamique].\n",
    "\n",
    "Pour résoudre le problème, nous allons utiliser une liste (ou un tableau) auxiliaire. Nous expliquons dans la suite sa construction.\n",
    "Etant donné une liste `L` dont on souhaite calculer la somme maximum d'une sous-liste, on définit une liste `Opt` tel que `Opt[i]` contienne la plus grande somme `L[k]+L[k+1]+...+L[i-1]+L[i]` pour un certain $k$ à déterminer. Autrement dit, `Opt[i]` est la valeur de la plus grande somme d'une sous-liste de `L[0..i]` terminant par `L[i]`.\n",
    "\n",
    "Exemple:\n",
    "Pour `L = [2, -7, -5, 10, 8, 5, 10, -1, 10, -2, -7, 7]` et `i=8`, `Opt[i]=42`\n",
    "\n",
    "Plus généralement pour cette liste `L`, voici le contenu de la liste `Opt`:\n",
    "`[2, -5, -5, 10, 18, 23, 33, 32, 42, 40, 33, 40]`.\n",
    "\n",
    "> Ecrire une fonction `maxSumProgDyn` qui compléte ce tableau. On observera qu'il existe une relation entre `Opt[i]`, `Opt[i-1]` et `L[i]`... et que `Opt[0]=L[0]`.\n"
   ]
  },
  {
   "cell_type": "code",
   "execution_count": null,
   "metadata": {
    "collapsed": true
   },
   "outputs": [],
   "source": [
    "def maxSumProgDyn(L):\n",
    "    pass"
   ]
  }
 ],
 "metadata": {
  "kernelspec": {
   "display_name": "Python 3",
   "language": "python",
   "name": "python3"
  },
  "language_info": {
   "codemirror_mode": {
    "name": "ipython",
    "version": 3
   },
   "file_extension": ".py",
   "mimetype": "text/x-python",
   "name": "python",
   "nbconvert_exporter": "python",
   "pygments_lexer": "ipython3",
   "version": "3.6.9"
  }
 },
 "nbformat": 4,
 "nbformat_minor": 2
}
